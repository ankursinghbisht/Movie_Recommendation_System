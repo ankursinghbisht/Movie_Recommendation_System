{
  "cells": [
    {
      "cell_type": "code",
      "execution_count": 3,
      "metadata": {
        "id": "Cyo69NuoaQFS"
      },
      "outputs": [],
      "source": [
        "import pandas as pd\n",
        "import numpy as np\n",
        "\n",
        "\n",
        "from sklearn.feature_extraction.text import CountVectorizer\n",
        "# tool for preprocessing text data and converting it into a numerical representation that can be used for machine learning.\n",
        "\n",
        "from sklearn.metrics.pairwise import cosine_similarity\n",
        "# used to compute the cosine similarity between two or more vectors.\n"
      ]
    },
    {
      "cell_type": "code",
      "execution_count": 4,
      "metadata": {},
      "outputs": [
        {
          "data": {
            "text/html": [
              "<div>\n",
              "<style scoped>\n",
              "    .dataframe tbody tr th:only-of-type {\n",
              "        vertical-align: middle;\n",
              "    }\n",
              "\n",
              "    .dataframe tbody tr th {\n",
              "        vertical-align: top;\n",
              "    }\n",
              "\n",
              "    .dataframe thead th {\n",
              "        text-align: right;\n",
              "    }\n",
              "</style>\n",
              "<table border=\"1\" class=\"dataframe\">\n",
              "  <thead>\n",
              "    <tr style=\"text-align: right;\">\n",
              "      <th></th>\n",
              "      <th>movie_id</th>\n",
              "      <th>title</th>\n",
              "      <th>tags</th>\n",
              "    </tr>\n",
              "  </thead>\n",
              "  <tbody>\n",
              "    <tr>\n",
              "      <th>0</th>\n",
              "      <td>19995</td>\n",
              "      <td>Avatar</td>\n",
              "      <td>centuri parapleg marin dispatch pandora uniqu ...</td>\n",
              "    </tr>\n",
              "    <tr>\n",
              "      <th>1</th>\n",
              "      <td>285</td>\n",
              "      <td>Pirates of the Caribbean: At World's End</td>\n",
              "      <td>captain barbossa believ dead head earth turner...</td>\n",
              "    </tr>\n",
              "    <tr>\n",
              "      <th>2</th>\n",
              "      <td>206647</td>\n",
              "      <td>Spectre</td>\n",
              "      <td>cryptic messag bond send trail uncov sinist or...</td>\n",
              "    </tr>\n",
              "    <tr>\n",
              "      <th>3</th>\n",
              "      <td>49026</td>\n",
              "      <td>The Dark Knight Rises</td>\n",
              "      <td>follow death district attorney harvey dent bat...</td>\n",
              "    </tr>\n",
              "    <tr>\n",
              "      <th>4</th>\n",
              "      <td>49529</td>\n",
              "      <td>John Carter</td>\n",
              "      <td>carter warweari former militari captain who in...</td>\n",
              "    </tr>\n",
              "  </tbody>\n",
              "</table>\n",
              "</div>"
            ],
            "text/plain": [
              "   movie_id                                     title  \\\n",
              "0     19995                                    Avatar   \n",
              "1       285  Pirates of the Caribbean: At World's End   \n",
              "2    206647                                   Spectre   \n",
              "3     49026                     The Dark Knight Rises   \n",
              "4     49529                               John Carter   \n",
              "\n",
              "                                                tags  \n",
              "0  centuri parapleg marin dispatch pandora uniqu ...  \n",
              "1  captain barbossa believ dead head earth turner...  \n",
              "2  cryptic messag bond send trail uncov sinist or...  \n",
              "3  follow death district attorney harvey dent bat...  \n",
              "4  carter warweari former militari captain who in...  "
            ]
          },
          "execution_count": 4,
          "metadata": {},
          "output_type": "execute_result"
        }
      ],
      "source": [
        "data=pd.read_csv(\"Dataset\\Processed Dataset.csv\")\n",
        "data.head()"
      ]
    },
    {
      "cell_type": "code",
      "execution_count": 25,
      "metadata": {},
      "outputs": [],
      "source": [
        "cv = CountVectorizer(max_features=2000,stop_words='english')"
      ]
    },
    {
      "cell_type": "code",
      "execution_count": 26,
      "metadata": {},
      "outputs": [],
      "source": [
        "vector = cv.fit_transform(data['tags']).toarray()"
      ]
    },
    {
      "attachments": {},
      "cell_type": "markdown",
      "metadata": {},
      "source": [
        "Calculating distance among all the vectors. Greater the distance, smaller the similarity.\n",
        "There are multiple ways to calculate the distances- such as euclidean  distance(point to point distance= root(x2-xi)^2/(y2-y1)^2),\n",
        "but we will use Cosine distance (angle between the vectors) as we have a very high dimension data.\n",
        "\n",
        "Cosine distance is inversly proportion to similarity\n",
        "we will use sklearn library and from ther we will import cosine similarity"
      ]
    },
    {
      "cell_type": "code",
      "execution_count": 27,
      "metadata": {},
      "outputs": [],
      "source": [
        "# we are stringing the distance in a variable similarity \n",
        "similarity = cosine_similarity(vector)"
      ]
    },
    {
      "attachments": {},
      "cell_type": "markdown",
      "metadata": {},
      "source": [
        " # Enum usage for recommendation"
      ]
    },
    {
      "cell_type": "code",
      "execution_count": 45,
      "metadata": {},
      "outputs": [
        {
          "data": {
            "text/plain": [
              "[1.0,\n",
              " 0.3848685043430891,\n",
              " 0.34511838512583043,\n",
              " 0.31750031750047625,\n",
              " 0.3143092785468561]"
            ]
          },
          "execution_count": 45,
          "metadata": {},
          "output_type": "execute_result"
        }
      ],
      "source": [
        "#suppose we're finding similar movies to movie with index 0\n",
        "#we'll sort CountVectorized martix in non-increasing order \n",
        "sorted(similarity[0],reverse=True)[0:5]"
      ]
    },
    {
      "cell_type": "code",
      "execution_count": 46,
      "metadata": {},
      "outputs": [
        {
          "data": {
            "text/plain": [
              "[(4799, 0.0),\n",
              " (4798, 0.03919309008348103),\n",
              " (4797, 0.0885807893036239),\n",
              " (4796, 0.06788442333021306),\n",
              " (4795, 0.03522349768381735)]"
            ]
          },
          "execution_count": 46,
          "metadata": {},
          "output_type": "execute_result"
        }
      ],
      "source": [
        "#here we lost the indices of movies, to prevent this, we'll enumerate the similarity matrix and pass it to a list, then sort\n",
        "sorted(list(enumerate(similarity[0])),reverse=True)[0:5]\n",
        "# lambda funtion is used to tell me "
      ]
    },
    {
      "cell_type": "code",
      "execution_count": 47,
      "metadata": {},
      "outputs": [
        {
          "data": {
            "text/plain": [
              "[(0, 1.0),\n",
              " (1213, 0.3848685043430891),\n",
              " (507, 0.34511838512583043),\n",
              " (3723, 0.31750031750047625),\n",
              " (61, 0.3143092785468561)]"
            ]
          },
          "execution_count": 47,
          "metadata": {},
          "output_type": "execute_result"
        }
      ],
      "source": [
        "#another problem arises, that it sorts on basis of 1st term (to prevent we use lambda function)\n",
        "sorted(list(enumerate(similarity[0])),key=lambda x:x[1],reverse=True)[0:5]"
      ]
    },
    {
      "attachments": {},
      "cell_type": "markdown",
      "metadata": {},
      "source": [
        "# Declaring model"
      ]
    },
    {
      "cell_type": "code",
      "execution_count": 52,
      "metadata": {},
      "outputs": [],
      "source": [
        "def recommend(movie):\n",
        "    movie_index=data[data['title']==movie].index[0] #finding the index of movie mentioned, & finding it's similarity matrix\n",
        "    distances = similarity[movie_index] \n",
        "    movies_list = sorted(list(enumerate(distances)),reverse=True,key=lambda x:x[1])[1:6]\n",
        "    #we will use sorting as sorting in reverse order which and pick out the first 5 movies which will the most similar movies \n",
        "    #along with enumerators to keep track of original indices\n",
        "    for i in movies_list:\n",
        "        print(data.iloc[i[0]].title)\n",
        "        #finding title for the indices that were the most similar"
      ]
    },
    {
      "attachments": {},
      "cell_type": "markdown",
      "metadata": {},
      "source": [
        "# Predictions"
      ]
    },
    {
      "cell_type": "code",
      "execution_count": 55,
      "metadata": {},
      "outputs": [
        {
          "name": "stdout",
          "output_type": "stream",
          "text": [
            "Pirates of the Caribbean: Dead Man's Chest\n",
            "Pirates of the Caribbean: The Curse of the Black Pearl\n",
            "Pirates of the Caribbean: On Stranger Tides\n",
            "Life of Pi\n",
            "Waterworld\n"
          ]
        }
      ],
      "source": [
        "recommend('Pirates of the Caribbean: At World\\'s End')"
      ]
    },
    {
      "cell_type": "code",
      "execution_count": 56,
      "metadata": {},
      "outputs": [
        {
          "name": "stdout",
          "output_type": "stream",
          "text": [
            "The Dark Knight\n",
            "Amidst the Devil's Wings\n",
            "The Dark Knight Rises\n",
            "Batman\n",
            "Defendor\n"
          ]
        }
      ],
      "source": [
        "recommend('Batman Begins')"
      ]
    },
    {
      "cell_type": "code",
      "execution_count": null,
      "metadata": {},
      "outputs": [],
      "source": []
    }
  ],
  "metadata": {
    "colab": {
      "provenance": []
    },
    "kernelspec": {
      "display_name": "Python 3",
      "name": "python3"
    },
    "language_info": {
      "codemirror_mode": {
        "name": "ipython",
        "version": 3
      },
      "file_extension": ".py",
      "mimetype": "text/x-python",
      "name": "python",
      "nbconvert_exporter": "python",
      "pygments_lexer": "ipython3",
      "version": "3.10.6"
    }
  },
  "nbformat": 4,
  "nbformat_minor": 0
}
