{
  "cells": [
    {
      "cell_type": "code",
      "execution_count": 1,
      "metadata": {
        "id": "Cyo69NuoaQFS"
      },
      "outputs": [],
      "source": [
        "import pandas as pd\n",
        "import numpy as np\n",
        "\n",
        "\n",
        "from sklearn.feature_extraction.text import CountVectorizer\n",
        "# tool for preprocessing text data and converting it into a numerical representation that can be used for machine learning.\n",
        "\n",
        "from sklearn.metrics.pairwise import cosine_similarity\n",
        "# used to compute the cosine similarity between two or more vectors.\n",
        "\n",
        "import pickle\n",
        "#used  to convert Python objects into a stream of bytes that can be written to a file or sent over a network."
      ]
    },
    {
      "cell_type": "code",
      "source": [
        "\n",
        "from google.colab import drive\n",
        "drive.mount('/content/drive')"
      ],
      "metadata": {
        "colab": {
          "base_uri": "https://localhost:8080/"
        },
        "id": "S7MhKxhK0nkA",
        "outputId": "2098b925-0fe2-4bc5-b5ad-a3e4a02486d5"
      },
      "execution_count": 2,
      "outputs": [
        {
          "output_type": "stream",
          "name": "stdout",
          "text": [
            "Mounted at /content/drive\n"
          ]
        }
      ]
    },
    {
      "cell_type": "code",
      "execution_count": 3,
      "metadata": {
        "colab": {
          "base_uri": "https://localhost:8080/",
          "height": 206
        },
        "id": "5B7c_Y8m0lai",
        "outputId": "e857c344-7419-4050-ace4-b98e25768c2a"
      },
      "outputs": [
        {
          "output_type": "execute_result",
          "data": {
            "text/plain": [
              "   movie_id                                     title  \\\n",
              "0     19995                                    Avatar   \n",
              "1       285  Pirates of the Caribbean: At World's End   \n",
              "2    206647                                   Spectre   \n",
              "3     49026                     The Dark Knight Rises   \n",
              "4     49529                               John Carter   \n",
              "\n",
              "                                                tags  \n",
              "0  century paraplegic marine dispatched pandora u...  \n",
              "1  captain barbossa believed dead headed earth tu...  \n",
              "2  cryptic message bonds sends trail uncover sini...  \n",
              "3  following death district attorney harvey dent ...  \n",
              "4  carter warweary former military captain whos i...  "
            ],
            "text/html": [
              "\n",
              "\n",
              "  <div id=\"df-e3829d3b-8d04-41b2-a7c4-ab1187923e9c\">\n",
              "    <div class=\"colab-df-container\">\n",
              "      <div>\n",
              "<style scoped>\n",
              "    .dataframe tbody tr th:only-of-type {\n",
              "        vertical-align: middle;\n",
              "    }\n",
              "\n",
              "    .dataframe tbody tr th {\n",
              "        vertical-align: top;\n",
              "    }\n",
              "\n",
              "    .dataframe thead th {\n",
              "        text-align: right;\n",
              "    }\n",
              "</style>\n",
              "<table border=\"1\" class=\"dataframe\">\n",
              "  <thead>\n",
              "    <tr style=\"text-align: right;\">\n",
              "      <th></th>\n",
              "      <th>movie_id</th>\n",
              "      <th>title</th>\n",
              "      <th>tags</th>\n",
              "    </tr>\n",
              "  </thead>\n",
              "  <tbody>\n",
              "    <tr>\n",
              "      <th>0</th>\n",
              "      <td>19995</td>\n",
              "      <td>Avatar</td>\n",
              "      <td>century paraplegic marine dispatched pandora u...</td>\n",
              "    </tr>\n",
              "    <tr>\n",
              "      <th>1</th>\n",
              "      <td>285</td>\n",
              "      <td>Pirates of the Caribbean: At World's End</td>\n",
              "      <td>captain barbossa believed dead headed earth tu...</td>\n",
              "    </tr>\n",
              "    <tr>\n",
              "      <th>2</th>\n",
              "      <td>206647</td>\n",
              "      <td>Spectre</td>\n",
              "      <td>cryptic message bonds sends trail uncover sini...</td>\n",
              "    </tr>\n",
              "    <tr>\n",
              "      <th>3</th>\n",
              "      <td>49026</td>\n",
              "      <td>The Dark Knight Rises</td>\n",
              "      <td>following death district attorney harvey dent ...</td>\n",
              "    </tr>\n",
              "    <tr>\n",
              "      <th>4</th>\n",
              "      <td>49529</td>\n",
              "      <td>John Carter</td>\n",
              "      <td>carter warweary former military captain whos i...</td>\n",
              "    </tr>\n",
              "  </tbody>\n",
              "</table>\n",
              "</div>\n",
              "      <button class=\"colab-df-convert\" onclick=\"convertToInteractive('df-e3829d3b-8d04-41b2-a7c4-ab1187923e9c')\"\n",
              "              title=\"Convert this dataframe to an interactive table.\"\n",
              "              style=\"display:none;\">\n",
              "\n",
              "  <svg xmlns=\"http://www.w3.org/2000/svg\" height=\"24px\"viewBox=\"0 0 24 24\"\n",
              "       width=\"24px\">\n",
              "    <path d=\"M0 0h24v24H0V0z\" fill=\"none\"/>\n",
              "    <path d=\"M18.56 5.44l.94 2.06.94-2.06 2.06-.94-2.06-.94-.94-2.06-.94 2.06-2.06.94zm-11 1L8.5 8.5l.94-2.06 2.06-.94-2.06-.94L8.5 2.5l-.94 2.06-2.06.94zm10 10l.94 2.06.94-2.06 2.06-.94-2.06-.94-.94-2.06-.94 2.06-2.06.94z\"/><path d=\"M17.41 7.96l-1.37-1.37c-.4-.4-.92-.59-1.43-.59-.52 0-1.04.2-1.43.59L10.3 9.45l-7.72 7.72c-.78.78-.78 2.05 0 2.83L4 21.41c.39.39.9.59 1.41.59.51 0 1.02-.2 1.41-.59l7.78-7.78 2.81-2.81c.8-.78.8-2.07 0-2.86zM5.41 20L4 18.59l7.72-7.72 1.47 1.35L5.41 20z\"/>\n",
              "  </svg>\n",
              "      </button>\n",
              "\n",
              "\n",
              "\n",
              "    <div id=\"df-180745c3-8c10-41dc-b670-c328859f7d61\">\n",
              "      <button class=\"colab-df-quickchart\" onclick=\"quickchart('df-180745c3-8c10-41dc-b670-c328859f7d61')\"\n",
              "              title=\"Suggest charts.\"\n",
              "              style=\"display:none;\">\n",
              "\n",
              "<svg xmlns=\"http://www.w3.org/2000/svg\" height=\"24px\"viewBox=\"0 0 24 24\"\n",
              "     width=\"24px\">\n",
              "    <g>\n",
              "        <path d=\"M19 3H5c-1.1 0-2 .9-2 2v14c0 1.1.9 2 2 2h14c1.1 0 2-.9 2-2V5c0-1.1-.9-2-2-2zM9 17H7v-7h2v7zm4 0h-2V7h2v10zm4 0h-2v-4h2v4z\"/>\n",
              "    </g>\n",
              "</svg>\n",
              "      </button>\n",
              "    </div>\n",
              "\n",
              "<style>\n",
              "  .colab-df-quickchart {\n",
              "    background-color: #E8F0FE;\n",
              "    border: none;\n",
              "    border-radius: 50%;\n",
              "    cursor: pointer;\n",
              "    display: none;\n",
              "    fill: #1967D2;\n",
              "    height: 32px;\n",
              "    padding: 0 0 0 0;\n",
              "    width: 32px;\n",
              "  }\n",
              "\n",
              "  .colab-df-quickchart:hover {\n",
              "    background-color: #E2EBFA;\n",
              "    box-shadow: 0px 1px 2px rgba(60, 64, 67, 0.3), 0px 1px 3px 1px rgba(60, 64, 67, 0.15);\n",
              "    fill: #174EA6;\n",
              "  }\n",
              "\n",
              "  [theme=dark] .colab-df-quickchart {\n",
              "    background-color: #3B4455;\n",
              "    fill: #D2E3FC;\n",
              "  }\n",
              "\n",
              "  [theme=dark] .colab-df-quickchart:hover {\n",
              "    background-color: #434B5C;\n",
              "    box-shadow: 0px 1px 3px 1px rgba(0, 0, 0, 0.15);\n",
              "    filter: drop-shadow(0px 1px 2px rgba(0, 0, 0, 0.3));\n",
              "    fill: #FFFFFF;\n",
              "  }\n",
              "</style>\n",
              "\n",
              "    <script>\n",
              "      async function quickchart(key) {\n",
              "        const containerElement = document.querySelector('#' + key);\n",
              "        const charts = await google.colab.kernel.invokeFunction(\n",
              "            'suggestCharts', [key], {});\n",
              "      }\n",
              "    </script>\n",
              "\n",
              "      <script>\n",
              "\n",
              "function displayQuickchartButton(domScope) {\n",
              "  let quickchartButtonEl =\n",
              "    domScope.querySelector('#df-180745c3-8c10-41dc-b670-c328859f7d61 button.colab-df-quickchart');\n",
              "  quickchartButtonEl.style.display =\n",
              "    google.colab.kernel.accessAllowed ? 'block' : 'none';\n",
              "}\n",
              "\n",
              "        displayQuickchartButton(document);\n",
              "      </script>\n",
              "      <style>\n",
              "    .colab-df-container {\n",
              "      display:flex;\n",
              "      flex-wrap:wrap;\n",
              "      gap: 12px;\n",
              "    }\n",
              "\n",
              "    .colab-df-convert {\n",
              "      background-color: #E8F0FE;\n",
              "      border: none;\n",
              "      border-radius: 50%;\n",
              "      cursor: pointer;\n",
              "      display: none;\n",
              "      fill: #1967D2;\n",
              "      height: 32px;\n",
              "      padding: 0 0 0 0;\n",
              "      width: 32px;\n",
              "    }\n",
              "\n",
              "    .colab-df-convert:hover {\n",
              "      background-color: #E2EBFA;\n",
              "      box-shadow: 0px 1px 2px rgba(60, 64, 67, 0.3), 0px 1px 3px 1px rgba(60, 64, 67, 0.15);\n",
              "      fill: #174EA6;\n",
              "    }\n",
              "\n",
              "    [theme=dark] .colab-df-convert {\n",
              "      background-color: #3B4455;\n",
              "      fill: #D2E3FC;\n",
              "    }\n",
              "\n",
              "    [theme=dark] .colab-df-convert:hover {\n",
              "      background-color: #434B5C;\n",
              "      box-shadow: 0px 1px 3px 1px rgba(0, 0, 0, 0.15);\n",
              "      filter: drop-shadow(0px 1px 2px rgba(0, 0, 0, 0.3));\n",
              "      fill: #FFFFFF;\n",
              "    }\n",
              "  </style>\n",
              "\n",
              "      <script>\n",
              "        const buttonEl =\n",
              "          document.querySelector('#df-e3829d3b-8d04-41b2-a7c4-ab1187923e9c button.colab-df-convert');\n",
              "        buttonEl.style.display =\n",
              "          google.colab.kernel.accessAllowed ? 'block' : 'none';\n",
              "\n",
              "        async function convertToInteractive(key) {\n",
              "          const element = document.querySelector('#df-e3829d3b-8d04-41b2-a7c4-ab1187923e9c');\n",
              "          const dataTable =\n",
              "            await google.colab.kernel.invokeFunction('convertToInteractive',\n",
              "                                                     [key], {});\n",
              "          if (!dataTable) return;\n",
              "\n",
              "          const docLinkHtml = 'Like what you see? Visit the ' +\n",
              "            '<a target=\"_blank\" href=https://colab.research.google.com/notebooks/data_table.ipynb>data table notebook</a>'\n",
              "            + ' to learn more about interactive tables.';\n",
              "          element.innerHTML = '';\n",
              "          dataTable['output_type'] = 'display_data';\n",
              "          await google.colab.output.renderOutput(dataTable, element);\n",
              "          const docLink = document.createElement('div');\n",
              "          docLink.innerHTML = docLinkHtml;\n",
              "          element.appendChild(docLink);\n",
              "        }\n",
              "      </script>\n",
              "    </div>\n",
              "  </div>\n"
            ]
          },
          "metadata": {},
          "execution_count": 3
        }
      ],
      "source": [
        "data=pd.read_csv(\"/content/drive/MyDrive/dataset/Movies/Processed Dataset.csv\")\n",
        "data.head()"
      ]
    },
    {
      "cell_type": "code",
      "execution_count": 4,
      "metadata": {
        "id": "NsfkNef90lak"
      },
      "outputs": [],
      "source": [
        "cv = CountVectorizer(max_features=2000,stop_words='english')"
      ]
    },
    {
      "cell_type": "code",
      "execution_count": 5,
      "metadata": {
        "id": "JsYiC-sA0lal"
      },
      "outputs": [],
      "source": [
        "vector = cv.fit_transform(data['tags']).toarray()"
      ]
    },
    {
      "cell_type": "markdown",
      "metadata": {
        "id": "HpLnUfCC0lam"
      },
      "source": [
        "Calculating distance among all the vectors. Greater the distance, smaller the similarity.\n",
        "There are multiple ways to calculate the distances- such as euclidean  distance(point to point distance= root(x2-xi)^2/(y2-y1)^2),\n",
        "but we will use Cosine distance (angle between the vectors) as we have a very high dimension data.\n",
        "\n",
        "Cosine distance is inversly proportion to similarity\n",
        "we will use sklearn library and from ther we will import cosine similarity"
      ]
    },
    {
      "cell_type": "code",
      "execution_count": 6,
      "metadata": {
        "id": "XSLJ3XXS0lao"
      },
      "outputs": [],
      "source": [
        "# we are stringing the distance in a variable similarity\n",
        "similarity = cosine_similarity(vector)"
      ]
    },
    {
      "cell_type": "markdown",
      "metadata": {
        "id": "k45c3lc30lap"
      },
      "source": [
        " # Enum usage for recommendation"
      ]
    },
    {
      "cell_type": "code",
      "execution_count": 7,
      "metadata": {
        "colab": {
          "base_uri": "https://localhost:8080/"
        },
        "id": "wBs9L6VS0laq",
        "outputId": "bb67e71d-508f-49e1-c51e-98860cddb275"
      },
      "outputs": [
        {
          "output_type": "execute_result",
          "data": {
            "text/plain": [
              "[1.0,\n",
              " 0.3930042298310422,\n",
              " 0.36305409909144715,\n",
              " 0.3478327964999673,\n",
              " 0.33333333333333337]"
            ]
          },
          "metadata": {},
          "execution_count": 7
        }
      ],
      "source": [
        "#suppose we're finding similar movies to movie with index 0\n",
        "#we'll sort CountVectorized martix in non-increasing order\n",
        "sorted(similarity[0],reverse=True)[0:5]"
      ]
    },
    {
      "cell_type": "code",
      "execution_count": 8,
      "metadata": {
        "colab": {
          "base_uri": "https://localhost:8080/"
        },
        "id": "BWZn6i7p0lar",
        "outputId": "fdf989b2-a370-4166-8e4e-bfa8db867005"
      },
      "outputs": [
        {
          "output_type": "execute_result",
          "data": {
            "text/plain": [
              "[(4799, 0.0),\n",
              " (4798, 0.04667600280093366),\n",
              " (4797, 0.03928371006591931),\n",
              " (4796, 0.08606629658238704),\n",
              " (4795, 0.04536092116265145)]"
            ]
          },
          "metadata": {},
          "execution_count": 8
        }
      ],
      "source": [
        "#here we lost the indices of movies, to prevent this, we'll enumerate the similarity matrix and pass it to a list, then sort\n",
        "sorted(list(enumerate(similarity[0])),reverse=True)[0:5]\n",
        "# lambda funtion is used to tell me"
      ]
    },
    {
      "cell_type": "code",
      "execution_count": 9,
      "metadata": {
        "colab": {
          "base_uri": "https://localhost:8080/"
        },
        "id": "wmIQrJRR0las",
        "outputId": "5841d5b1-ffa1-4b57-bb20-9ee8aaa6729f"
      },
      "outputs": [
        {
          "output_type": "execute_result",
          "data": {
            "text/plain": [
              "[(0, 1.0),\n",
              " (1213, 0.3930042298310422),\n",
              " (507, 0.36305409909144715),\n",
              " (1191, 0.3478327964999673),\n",
              " (83, 0.33333333333333337)]"
            ]
          },
          "metadata": {},
          "execution_count": 9
        }
      ],
      "source": [
        "#another problem arises, that it sorts on basis of 1st term (to prevent we use lambda function)\n",
        "sorted(list(enumerate(similarity[0])),key=lambda x:x[1],reverse=True)[0:5]"
      ]
    },
    {
      "cell_type": "code",
      "source": [
        "#Selecting top N movies before-hand , in order to save space and time in future call cases\n",
        "\n",
        "count_of_movies_required = 6\n",
        "similarity_matrix = {}\n",
        "\n",
        "for movie_index, distances in enumerate(similarity):\n",
        "    # Find indices of top N similar movies\n",
        "    top_n_movies= sorted(list(enumerate(similarity[movie_index])),key=lambda x:x[1],reverse=True)[1:count_of_movies_required]\n",
        "    #we will use sorting as sorting in reverse order which and pick out the first 5 movies which will the most similar movies\n",
        "    #along with enumerators to keep track of original indices\n",
        "\n",
        "\n",
        "    # Store these indices in the sparse representation\n",
        "    similarity_matrix[movie_index] = top_n_movies\n",
        ""
      ],
      "metadata": {
        "id": "6WR6owRVsHBF"
      },
      "execution_count": 10,
      "outputs": []
    },
    {
      "cell_type": "markdown",
      "metadata": {
        "id": "WoxM4EfN0lat"
      },
      "source": [
        "# Declaring model"
      ]
    },
    {
      "cell_type": "code",
      "execution_count": 11,
      "metadata": {
        "id": "C2P-GITT0lau"
      },
      "outputs": [],
      "source": [
        "def recommend(movie):\n",
        "    movie_index=data[data['title']==movie].index[0] #finding the index of movie mentioned, & finding it's similarity matrix\n",
        "    top_n_movies = similarity_matrix.get(movie_index, [])\n",
        "\n",
        "    output = []\n",
        "    for index, similarity_score in top_n_movies:\n",
        "        output.append(data.iloc[index]['title'])\n",
        "        #finding title for the indices that were the most similar\n",
        "    return output"
      ]
    },
    {
      "cell_type": "markdown",
      "metadata": {
        "id": "-9uJY1Mm0law"
      },
      "source": [
        "# Predictions"
      ]
    },
    {
      "cell_type": "code",
      "execution_count": 12,
      "metadata": {
        "colab": {
          "base_uri": "https://localhost:8080/"
        },
        "id": "8fERMkCD0lax",
        "outputId": "4fe271a0-250e-42fc-c060-68602f9c741e"
      },
      "outputs": [
        {
          "output_type": "execute_result",
          "data": {
            "text/plain": [
              "[\"Pirates of the Caribbean: Dead Man's Chest\",\n",
              " 'Pirates of the Caribbean: On Stranger Tides',\n",
              " 'Pirates of the Caribbean: The Curse of the Black Pearl',\n",
              " 'Life of Pi',\n",
              " 'The Pirates! In an Adventure with Scientists!']"
            ]
          },
          "metadata": {},
          "execution_count": 12
        }
      ],
      "source": [
        "recommend('Pirates of the Caribbean: At World\\'s End')"
      ]
    },
    {
      "cell_type": "code",
      "execution_count": 13,
      "metadata": {
        "colab": {
          "base_uri": "https://localhost:8080/"
        },
        "id": "8C4PlsIS0lay",
        "outputId": "5e5b2415-85c9-49ca-f80f-5c8144996060"
      },
      "outputs": [
        {
          "output_type": "execute_result",
          "data": {
            "text/plain": [
              "['The Dark Knight',\n",
              " \"Amidst the Devil's Wings\",\n",
              " 'Batman',\n",
              " 'The Dark Knight Rises',\n",
              " 'Dead Man Down']"
            ]
          },
          "metadata": {},
          "execution_count": 13
        }
      ],
      "source": [
        "recommend('Batman Begins')"
      ]
    },
    {
      "cell_type": "markdown",
      "source": [
        "# Exporting Data using pickle"
      ],
      "metadata": {
        "id": "ejg6R2xU7qOj"
      }
    },
    {
      "cell_type": "code",
      "source": [
        "pickle.dump(data.to_dict(),open('movies_dictionary.pkl','wb')) #extracting movie title and id in dictionary format, in binary format"
      ],
      "metadata": {
        "id": "BH4tgd-I7-XC"
      },
      "execution_count": 15,
      "outputs": []
    },
    {
      "cell_type": "code",
      "source": [
        "pickle.dump(similarity_matrix,open('similarity_matrix.pkl','wb')) #extracting similarity matrix in binary format"
      ],
      "metadata": {
        "id": "5FFlbYd5rrLH"
      },
      "execution_count": 16,
      "outputs": []
    }
  ],
  "metadata": {
    "colab": {
      "provenance": [],
      "gpuType": "T4"
    },
    "kernelspec": {
      "display_name": "Python 3",
      "name": "python3"
    },
    "language_info": {
      "codemirror_mode": {
        "name": "ipython",
        "version": 3
      },
      "file_extension": ".py",
      "mimetype": "text/x-python",
      "name": "python",
      "nbconvert_exporter": "python",
      "pygments_lexer": "ipython3",
      "version": "3.10.6"
    },
    "accelerator": "GPU"
  },
  "nbformat": 4,
  "nbformat_minor": 0
}