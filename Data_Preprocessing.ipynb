{
  "cells": [
    {
      "attachments": {},
      "cell_type": "markdown",
      "metadata": {},
      "source": [
        "Importing Modules"
      ]
    },
    {
      "cell_type": "code",
      "execution_count": null,
      "metadata": {},
      "outputs": [],
      "source": [
        "import  numpy as np\n",
        "import pandas as pd\n",
        "import ast\n",
        "# it is used to convert strings that represent Python code \n",
        "#(such as a list or dictionary) into their corresponding Python objects. "
      ]
    },
    {
      "attachments": {},
      "cell_type": "markdown",
      "metadata": {},
      "source": [
        "Importing data from my google drive"
      ]
    },
    {
      "cell_type": "code",
      "execution_count": null,
      "metadata": {},
      "outputs": [],
      "source": [
        "from google.colab import drive\n",
        "drive.mount('/content/drive')\n",
        "#mounting drive to this project"
      ]
    },
    {
      "cell_type": "code",
      "execution_count": null,
      "metadata": {},
      "outputs": [],
      "source": [
        "#including files into pandas dataframe\n",
        "movies_details=pd.read_csv(\"data location relative to the file\")\n",
        "movie_credits=pd.read_csv(\"data location relative to the file\")"
      ]
    },
    {
      "attachments": {},
      "cell_type": "markdown",
      "metadata": {},
      "source": [
        "Checking details of data"
      ]
    },
    {
      "cell_type": "code",
      "execution_count": null,
      "metadata": {},
      "outputs": [],
      "source": [
        "movies_details.info()\n",
        "movie_credits.info()"
      ]
    },
    {
      "attachments": {},
      "cell_type": "markdown",
      "metadata": {},
      "source": [
        "Merging both files into one"
      ]
    },
    {
      "cell_type": "code",
      "execution_count": null,
      "metadata": {},
      "outputs": [],
      "source": [
        "merged =movies_details.merge(movie_credits,left_on=\"id\",right_on=\"movie_id\")\n",
        "#merging both dataframes into a third one"
      ]
    },
    {
      "attachments": {},
      "cell_type": "markdown",
      "metadata": {},
      "source": [
        "Renaming 'title_x' to 'title' for better readability"
      ]
    },
    {
      "cell_type": "code",
      "execution_count": null,
      "metadata": {},
      "outputs": [],
      "source": [
        "merged=merged.rename(columns={\"title_x\":\"title\"})\n",
        "#renaming using rename function"
      ]
    },
    {
      "attachments": {},
      "cell_type": "markdown",
      "metadata": {},
      "source": [
        "Filtering out relevent columns"
      ]
    },
    {
      "cell_type": "code",
      "execution_count": null,
      "metadata": {},
      "outputs": [],
      "source": [
        "filtered= merged[['movie_id','title','overview','genres','keywords','cast','crew']]\n",
        "'''\n",
        "Reasons for use of above columns :\n",
        "-movie_id : used for movie poster identification in website\n",
        "-title : This column contains the title of each movie. \n",
        "-overview : This column contain a brief summary or description of each movie.\n",
        "-genres : it contains information about the genres or categories that each movie belongs to. \n",
        "-keywords : This column may contain specific keywords or phrases that are associated with each movie. \n",
        "cast : This column may contain information about the actors or actresses who appear in each movie\n",
        "crew : This column may contain information about the crew members who worked on each movie\n",
        "'''\n",
        "#all above columns are going to be used for our recommendation engine, as it is relevent data for movie and we can find associated movies \n"
      ]
    },
    {
      "attachments": {},
      "cell_type": "markdown",
      "metadata": {},
      "source": []
    }
  ],
  "metadata": {
    "colab": {
      "provenance": []
    },
    "kernelspec": {
      "display_name": "Python 3",
      "name": "python3"
    },
    "language_info": {
      "codemirror_mode": {
        "name": "ipython",
        "version": 3
      },
      "file_extension": ".py",
      "mimetype": "text/x-python",
      "name": "python",
      "nbconvert_exporter": "python",
      "pygments_lexer": "ipython3",
      "version": "3.10.6"
    }
  },
  "nbformat": 4,
  "nbformat_minor": 0
}
